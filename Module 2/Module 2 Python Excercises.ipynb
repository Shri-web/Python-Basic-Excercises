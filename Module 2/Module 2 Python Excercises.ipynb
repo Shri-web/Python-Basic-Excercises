{
 "cells": [
  {
   "cell_type": "markdown",
   "id": "5ec1a916",
   "metadata": {},
   "source": [
    "# UNIT I\n",
    "\n",
    "## MODULE 2\n",
    "## TOPIC : Numpy "
   ]
  },
  {
   "cell_type": "markdown",
   "id": "2323dd38",
   "metadata": {},
   "source": [
    "Question 1"
   ]
  },
  {
   "cell_type": "markdown",
   "id": "a75c7a4e",
   "metadata": {},
   "source": [
    "Write a function that takes a one-dimensional numpy array as input and returns the running sum of the array.\n",
    "\n",
    "Input Format\n",
    "    \n",
    "    First line of input consist of the values entered in the 1D array\n",
    "Output Format\n",
    "    \n",
    "    Returns the running sum of array\n",
    "Sample Input 1\n",
    "    \n",
    "    1 2 3 4 5\n",
    "Sample Output 1\n",
    "    \n",
    "    [ 1  3  6 10 15]"
   ]
  },
  {
   "cell_type": "code",
   "execution_count": null,
   "id": "64bd8243",
   "metadata": {},
   "outputs": [],
   "source": [
    "import numpy as np\n",
    "\n",
    "def running_sum(arr):\n",
    "    return np.cumsum(arr)\n",
    "\n",
    "lis = list(map(int,input().strip().split()))    \n",
    "original_array = np.array(lis)\n",
    "print(running_sum(original_array))\n"
   ]
  },
  {
   "cell_type": "markdown",
   "id": "fd0b205a",
   "metadata": {},
   "source": [
    "Question 2"
   ]
  },
  {
   "cell_type": "markdown",
   "id": "55493d45",
   "metadata": {},
   "source": [
    "1D array of marks scored by JEE students are taken in calculation. Find the marks which are of 0th percentile, 25th percentile, 50th percentile, 75th percentile, 100th percentile\n",
    "    \n",
    "Input Format\n",
    "    \n",
    "    First line consist of number of elements\n",
    "    \n",
    "    Second line consist of marks stored in array\n",
    "    \n",
    "Output Format \n",
    "    \n",
    "    first line print the array\n",
    "    \n",
    "    second line 0th percentile\n",
    "    \n",
    "    third line 25th percentile \n",
    "    \n",
    "    fourth line 50th percentile \n",
    "    \n",
    "    fifth line 75th percentile\n",
    "    \n",
    "    last line 100th percentile\n",
    "    \n",
    "Sample input\n",
    "    \n",
    "    5\n",
    "    34 54 56 87 32\n",
    "    \n",
    "Sample output\n",
    "    \n",
    "    [34. 54. 56. 87. 32.]\n",
    "    0th percentile of a :  32.0\n",
    "    25th percentile of a :  34.0\n",
    "    50th percentile of a :  54.0\n",
    "    75th percentile of a :  56.0\n",
    "    100th percentile of a :  87.0"
   ]
  },
  {
   "cell_type": "code",
   "execution_count": null,
   "id": "826e2a67",
   "metadata": {},
   "outputs": [],
   "source": [
    "import numpy as np\n",
    "\n",
    "n = int(input()) # get the number of elements in a list\n",
    "  \n",
    "a = np.array(list(map(float,input().strip().split()))[:n])  \n",
    "# 1D aay\n",
    "\n",
    "print( a)\n",
    "print(\"0th percentile of a : \",\n",
    "       np.percentile(a, 0))\n",
    "print(\"25th percentile of a : \",\n",
    "       np.percentile(a, 25))\n",
    "print(\"50th percentile of a : \",\n",
    "       np.percentile(a, 50))\n",
    "print(\"75th percentile of a : \",\n",
    "       np.percentile(a, 75))\n",
    "print(\"100th percentile of a : \",\n",
    "       np.percentile(a, 100))"
   ]
  },
  {
   "cell_type": "markdown",
   "id": "39f051f4",
   "metadata": {},
   "source": [
    "#### Question 3"
   ]
  },
  {
   "cell_type": "markdown",
   "id": "220e73b2",
   "metadata": {},
   "source": [
    "Write a function that takes a one-dimensional numpy array as input and returns the indices of the array where the element is greater than the average of all the elements.\n",
    "\n",
    "Input Format\n",
    "    \n",
    "    First line consist of the 1D array from user\n",
    "Output Format\n",
    "\n",
    "    Returns the indices array of elements which are greater than the avg of all elements\n",
    "Sample Input 1\n",
    "\n",
    "    1 2 4 5 6 7 8 9 10 \n",
    "Sample Output 1\n",
    "\n",
    "    (array([4, 5, 6, 7, 8]),)"
   ]
  },
  {
   "cell_type": "code",
   "execution_count": null,
   "id": "62934d3c",
   "metadata": {},
   "outputs": [],
   "source": [
    "import numpy as np\n",
    "\n",
    "def find_above_average(arr):\n",
    "    average = np.mean(arr)\n",
    "    above_average_indices = np.where(arr > average)\n",
    "    return above_average_indices\n",
    "\n",
    "original_array = np.array([1, 2, 3, 4, 5, 6, 7, 8, 9, 10])\n",
    "print(find_above_average(original_array))\n"
   ]
  },
  {
   "cell_type": "markdown",
   "id": "400deaaf",
   "metadata": {},
   "source": [
    "#### Question 4"
   ]
  },
  {
   "cell_type": "markdown",
   "id": "c2fbc0b7",
   "metadata": {},
   "source": [
    "Write a function that take 2 dimensional array and return the transpose of the array after flattening the array\n",
    "\n",
    "Input Format\n",
    "    \n",
    "    First line consist of the number of rows\n",
    "\n",
    "    Second line consist of the number of columns\n",
    "\n",
    "    Finally enter the values for the matrices\n",
    "\n",
    "Output Format\n",
    "    \n",
    "    Returns the Final transpose matrix after flattening.\n",
    "Sample Input 1\n",
    "    \n",
    "    2\n",
    "    2 \n",
    "    1\n",
    "    2\n",
    "    3\n",
    "    4\n",
    "Sample Output 1\n",
    "\n",
    "    [1 2 3 4]\n",
    "Sample Input 2\n",
    "\n",
    "    3\n",
    "    3\n",
    "    1\n",
    "    2\n",
    "    3\n",
    "    4\n",
    "    5\n",
    "    6\n",
    "    7\n",
    "    8\n",
    "    9\n",
    "Sample Output 2\n",
    "    \n",
    "    [1 2 3 4 5 6 7 8 9]"
   ]
  },
  {
   "cell_type": "code",
   "execution_count": null,
   "id": "727c30ec",
   "metadata": {},
   "outputs": [],
   "source": [
    "import numpy as np\n",
    "\n",
    "def flatten_and_transpose(arr):\n",
    "    return np.transpose(arr.ravel())\n",
    "\n",
    "r = int(input())\n",
    "c = int(input())\n",
    "mat = np.array([[int(input()) for x in range (c)] for y in range(r)])\n",
    "\n",
    "print(flatten_and_transpose(mat))"
   ]
  },
  {
   "cell_type": "markdown",
   "id": "84ce8fdf",
   "metadata": {},
   "source": [
    "#### Question 5"
   ]
  },
  {
   "cell_type": "markdown",
   "id": "086775a5",
   "metadata": {},
   "source": [
    "Write a function that takes a one-dimensional numpy array as input and returns the indices of the array where the difference between each element and its nearest neighbor is greater than a certain threshold.\n",
    "\n",
    "Input Format\n",
    "    \n",
    "    First line consist of the 1D array values from user\n",
    "    Second input consist of the threshold value.\n",
    "Output Format\n",
    "\n",
    "    Output should be the outliers in a array\n",
    "Sample Input 1\n",
    "    \n",
    "    1 2 3 4 5 10 20 30 40\n",
    "    4\n",
    "Sample Output 1\n",
    "\n",
    "    [5 6 7 8]"
   ]
  },
  {
   "cell_type": "code",
   "execution_count": null,
   "id": "0ed8af3e",
   "metadata": {},
   "outputs": [],
   "source": [
    "import numpy as np\n",
    "\n",
    "def find_outliers(arr, threshold=1):\n",
    "    diff = np.abs(np.diff(arr))\n",
    "    outliers = np.where(diff > threshold)[0]\n",
    "    return outliers + 1\n",
    "\n",
    "lis = list(map(int,input().strip().split()))  \n",
    "th = int(input())\n",
    "print(find_outliers(lis, th))"
   ]
  },
  {
   "cell_type": "markdown",
   "id": "a40ba24a",
   "metadata": {},
   "source": [
    "#### Question 6"
   ]
  },
  {
   "cell_type": "markdown",
   "id": "ed96261a",
   "metadata": {},
   "source": [
    "Write a function that takes a one-dimensional numpy array as input and returns the running sum of the array.\n",
    "\n",
    "Input Format\n",
    "    \n",
    "    First line of input consist of the values entered in the 1D array\n",
    "Output Format\n",
    "    \n",
    "    Returns the running sum of array\n",
    "Sample Input 1\n",
    "    \n",
    "    1 2 3 4 5\n",
    "Sample Output 1\n",
    "    \n",
    "    [ 1  3  6 10 15]"
   ]
  },
  {
   "cell_type": "code",
   "execution_count": null,
   "id": "a044aa3c",
   "metadata": {},
   "outputs": [],
   "source": [
    "import numpy as np\n",
    "\n",
    "def running_sum(arr):\n",
    "    return np.cumsum(arr)\n",
    "    \n",
    "original_array = np.array([1, 2, 3, 4, 5])\n",
    "print(running_sum(original_array))\n",
    "# output: [1 3 6 10 15]"
   ]
  },
  {
   "cell_type": "markdown",
   "id": "2159db37",
   "metadata": {},
   "source": [
    "#### Question 7"
   ]
  },
  {
   "cell_type": "markdown",
   "id": "3e7143d4",
   "metadata": {},
   "source": [
    "Given data create a data frame in pandas with the given data.\n",
    "\n",
    "Datas:\n",
    "    \n",
    "    'Team': ['Riders', 'Riders', 'Devils', 'Devils', 'Kings', 'kings', 'Kings', 'Kings', 'Riders', 'Royals', 'Royals', 'Riders'],\n",
    "    'Rank': [1, 2, 2, 3, 3,4 ,1 ,1,2 , 4,1,2],\n",
    "    'Year': [2014,2015,2014,2015,2014,2015,2016,2017,2016,2014,2015,2017],\n",
    "    'Points':[876,789,863,673,741,812,756,788,694,701,804,690]\n",
    "\n",
    "Your task is to display the data based on the year the user gives.\n",
    "\n",
    "\n",
    "\n",
    "Input Format\n",
    "\n",
    "    First line of the program consist of the year\n",
    "Output Format\n",
    "    \n",
    "    Displays the data based on the year\n",
    "Sample Input 1\n",
    "\n",
    "    2015\n",
    "Sample Output 1\n",
    "    \n",
    "        Team  Rank  Year  Points\n",
    "    1   Riders     2  2015     789\n",
    "    3   Devils     3  2015     673\n",
    "    5    kings     4  2015     812\n",
    "    10  Royals     1  2015     804"
   ]
  },
  {
   "cell_type": "code",
   "execution_count": null,
   "id": "59d02302",
   "metadata": {},
   "outputs": [],
   "source": [
    "import pandas as pd\n",
    "\n",
    "cric_match = {'Team': ['Riders', 'Riders', 'Devils', 'Devils', 'Kings',\n",
    "   'kings', 'Kings', 'Kings', 'Riders', 'Royals', 'Royals', 'Riders'],\n",
    "   'Rank': [1, 2, 2, 3, 3,4 ,1 ,1,2 , 4,1,2],\n",
    "   'Year': [2014,2015,2014,2015,2014,2015,2016,2017,2016,2014,2015,2017],\n",
    "   'Points':[876,789,863,673,741,812,756,788,694,701,804,690]}\n",
    "\n",
    "df = pd.DataFrame(cric_match)\n",
    "\n",
    "grouped = df.groupby('Year')\n",
    "\n",
    "print(grouped.get_group(2015))"
   ]
  },
  {
   "cell_type": "markdown",
   "id": "b31afbb3",
   "metadata": {},
   "source": [
    "#### Question 8"
   ]
  },
  {
   "cell_type": "markdown",
   "id": "75c2a402",
   "metadata": {},
   "source": [
    "Get a string of 4 values separated by commas from user. Convert the string to a 2X2 matrix by creating a user defined function for it.\n",
    "\n",
    "Create a function name converter1 which will convert the given string as a array.\n",
    "\n",
    "Create a function name converter2 which will convert the array to a 2X2 matrix.\n",
    "\n",
    "Similarly get 2 matrix from the user and use the matrix to do the following questions.\n",
    "\n",
    "- Multiplication of the two matrix\n",
    "\n",
    "- Cube of the each individual matrix\n",
    "\n",
    "- Rank of the each individual matrix\n",
    "\n",
    "\n",
    "Input Format\n",
    "\n",
    "    First line of input consist of 4 values of string separated by commas for 1st matrix\n",
    "\n",
    "    Second line of input consist of 4 values of string separated by commas for 2nd matrix\n",
    "Output Format\n",
    "\n",
    "    First line consist of the Dot multiplication of two matrices\n",
    "    Second line consist of the rank of the matrix 1\n",
    "    Third line consist of the rank of the matrix 2\n",
    "    Fourth line consist of the cube of matrix 1\n",
    "    Fifth line consist of the cube of matrix 2\n",
    "    Sixth line consist of the multiplication of two matrices\n",
    "Sample Input 1\n",
    "    \n",
    "    1,2,3,4\n",
    "    11,12,13,14\n",
    "Sample Output 1\n",
    "    \n",
    "    DOT MULTIPLICATION\n",
    "        \n",
    "        [[37 40]\n",
    "         [85 92]]\n",
    "   RANK OF THE MATRICES\n",
    "        \n",
    "        2\n",
    "        2\n",
    "   CUBE OF MATRICES\n",
    "        \n",
    "        [[ 37  54]\n",
    "         [ 81 118]]\n",
    "        [[6947 7524]\n",
    "         [8151 8828]]\n",
    "   MULTIPLICATION OF TWO MATRICES\n",
    "   \n",
    "         [[ 7 10]\n",
    "         [15 22]]"
   ]
  },
  {
   "cell_type": "code",
   "execution_count": null,
   "id": "24fe7138",
   "metadata": {},
   "outputs": [],
   "source": [
    "import numpy as np\n",
    "\n",
    "def converter1(mat):\n",
    "    return converter2(np.fromstring(mat,dtype= int,sep = ','))\n",
    "\n",
    "def converter2(mat):\n",
    "    return mat.reshape(2,2)\n",
    "\n",
    "mat1 = input()\n",
    "mat2= input()\n",
    "new_mat1  = converter1(mat1)\n",
    "new_mat2 = converter1(mat2)\n",
    "\n",
    "print('DOT MULTIPLICATION')\n",
    "print(np.dot(new_mat1,new_mat2))\n",
    "print('RANK OF THE MATRICES')\n",
    "print(np.linalg.matrix_rank(new_mat1))\n",
    "print(np.linalg.matrix_rank(new_mat2))\n",
    "print('CUBE OF MATRICES')\n",
    "print(np.linalg.matrix_power(new_mat1,3))\n",
    "print(np.linalg.matrix_power(new_mat2,3))\n",
    "print('MULTIPLICATION OF TWO MATRICES')\n",
    "print(np.matmul(new_mat1,new_mat1))"
   ]
  },
  {
   "cell_type": "markdown",
   "id": "36ad8142",
   "metadata": {},
   "source": [
    "#### Question 9"
   ]
  },
  {
   "cell_type": "markdown",
   "id": "1e81a029",
   "metadata": {},
   "source": [
    "Get a array as a input and add the first and the last value of both for both row and column representation.\n",
    "    \n",
    "Input Format\n",
    "    \n",
    "    First line consist of number of rows\n",
    "    \n",
    "    Second line consist of number of columns\n",
    "    \n",
    "    The following line consist of entry of the input values\n",
    "    \n",
    "Output Format \n",
    "    \n",
    "    print the array\n",
    "    \n",
    "    list of added values\n",
    "    \n",
    "Sample input\n",
    "    \n",
    "    2 # no of rows\n",
    "    2 # no of columns\n",
    "    1\n",
    "    2\n",
    "    3\n",
    "    4\n",
    "    \n",
    "Sample Output\n",
    "    \n",
    "    [[1 2]\n",
    "    [3 4]]\n",
    "    row [4 6]\n",
    "    column [3 7]"
   ]
  },
  {
   "cell_type": "code",
   "execution_count": null,
   "id": "5d069f97",
   "metadata": {},
   "outputs": [],
   "source": [
    "import numpy as np\n",
    "\n",
    "def add(mat):\n",
    "    return(mat[0]+mat[-1])\n",
    "\n",
    "R = int(input())\n",
    "C = int(input())\n",
    "mat = np.array([[int(input()) for x in range (C)] for y in range(R)])\n",
    "print(mat)\n",
    "print('row',np.apply_along_axis(add,0,mat))\n",
    "print ('column',np.apply_along_axis(add,1,mat))"
   ]
  },
  {
   "cell_type": "markdown",
   "id": "89222efb",
   "metadata": {},
   "source": [
    "#### Question 10"
   ]
  },
  {
   "cell_type": "markdown",
   "id": "cc3dd696",
   "metadata": {},
   "source": [
    "Get a array as a input and check the values in the array are greater than the target value if not multiply the value by 5.\n",
    "    \n",
    "Input Format\n",
    "    \n",
    "    First line consist of target value\n",
    "    \n",
    "    Second line consist of number of rows\n",
    "    \n",
    "    Third line consist of number of columns\n",
    "    \n",
    "    The following line consist of entry of the input values\n",
    "    \n",
    "Output Format \n",
    "    \n",
    "    a array of changed values\n",
    "    \n",
    "Sample Input\n",
    "    \n",
    "    5 # target value\n",
    "    2 # no of rows\n",
    "    2 # no of columns\n",
    "    1\n",
    "    56\n",
    "    5\n",
    "    6\n",
    "    \n",
    "Sample Output\n",
    "    \n",
    "    [[  1 280]\n",
    "    [ 25  30]]"
   ]
  },
  {
   "cell_type": "code",
   "execution_count": null,
   "id": "140730e7",
   "metadata": {},
   "outputs": [],
   "source": [
    "import numpy as np\n",
    "t = int (input())\n",
    "R = int(input())\n",
    "C = int(input())\n",
    "mat = np.array([[int(input()) for x in range (C)] for y in range(R)])\n",
    "\n",
    "print(np.where(mat<t,mat,mat*5))"
   ]
  },
  {
   "cell_type": "markdown",
   "id": "b0690985",
   "metadata": {},
   "source": [
    "#### Question 11"
   ]
  },
  {
   "cell_type": "markdown",
   "id": "b3acdfc8",
   "metadata": {},
   "source": [
    "Create an random 2D array of integers from 1 to 100. Find the max along each column and each row of the array.\n",
    "    \n",
    "Input Format\n",
    "    \n",
    "    First line of the input consist of the number of rows\n",
    "    \n",
    "    Second line of the input consist of the number of columns\n",
    "    \n",
    "Output Format\n",
    "    \n",
    "     \n",
    "    \n",
    "    Display the created array\n",
    "    \n",
    "    Display the list of max number in the row\n",
    "    \n",
    "    Display the list of max number in column\n",
    "    \n",
    "Sample input\n",
    "    \n",
    "    2\n",
    "    3\n",
    "    \n",
    "Sample output\n",
    "    \n",
    "    [[38  6 92]\n",
    "    [13 27  4]]\n",
    "    \n",
    "    [92 27]\n",
    "    [38 27 92]"
   ]
  },
  {
   "cell_type": "code",
   "execution_count": null,
   "id": "3bc970f9",
   "metadata": {},
   "outputs": [],
   "source": [
    "import numpy as np\n",
    "n = int (input())\n",
    "m = int (input())\n",
    "\n",
    "ta = np.random.randint(1,100,(n,m))\n",
    "print(ta)\n",
    "mta = np.amax(ta, axis = 1)\n",
    "mtac = np.amax(ta, axis = 0)\n",
    "\n",
    "print( mta)\n",
    "print( mtac)"
   ]
  }
 ],
 "metadata": {
  "kernelspec": {
   "display_name": "Python 3 (ipykernel)",
   "language": "python",
   "name": "python3"
  },
  "language_info": {
   "codemirror_mode": {
    "name": "ipython",
    "version": 3
   },
   "file_extension": ".py",
   "mimetype": "text/x-python",
   "name": "python",
   "nbconvert_exporter": "python",
   "pygments_lexer": "ipython3",
   "version": "3.10.1"
  }
 },
 "nbformat": 4,
 "nbformat_minor": 5
}
